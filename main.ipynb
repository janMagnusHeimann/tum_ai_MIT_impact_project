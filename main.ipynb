{
  "cells": [
    {
      "cell_type": "code",
      "execution_count": 1,
      "metadata": {
        "id": "ZjU4x1d5d0zl"
      },
      "outputs": [],
      "source": [
        "import torch\n",
        "import torch.nn as nn\n",
        "from torch_geometric.data import Batch\n",
        "from torch_geometric.loader import DataLoader\n",
        "import gpytorch\n",
        "import matplotlib.pyplot as plt\n",
        "import xgboost as xgb\n",
        "import numpy as np\n",
        "from sklearn.model_selection import train_test_split\n",
        "from sklearn.metrics import mean_squared_error"
      ]
    },
    {
      "cell_type": "code",
      "execution_count": 2,
      "metadata": {
        "id": "nOjWWb9uh3pF"
      },
      "outputs": [],
      "source": [
        "class NN(nn.Module):\n",
        "    def __init__(self):\n",
        "        super(NN, self).__init__()\n",
        "        self.fc1 = nn.Linear(119, 360)\n",
        "        self.fc2 = nn.Linear(360, 180)\n",
        "        self.fc3 = nn.Linear(180, 100)\n",
        "        self.fc4 = nn.Linear(100, 64)\n",
        "        self.fc5 = nn.Linear(64, 32)\n",
        "        self.fc6 = nn.Linear(32, 1)\n",
        "\n",
        "    def forward(self, x):\n",
        "        x = torch.relu(self.fc1(x))\n",
        "        x = torch.relu(self.fc2(x))\n",
        "        x = torch.relu(self.fc3(x))\n",
        "        x = torch.relu(self.fc4(x))\n",
        "        x = torch.relu(self.fc5(x))\n",
        "        x = self.fc6(x)\n",
        "        return x\n",
        "model = NN()"
      ]
    },
    {
      "cell_type": "code",
      "execution_count": 3,
      "metadata": {
        "id": "RYA9nB5lh4Tl"
      },
      "outputs": [],
      "source": [
        "def train(train_loader, device, model, optimizer, criterion):\n",
        "    model.train()\n",
        "    running_loss = 0.0\n",
        "    for inputs, labels in train_loader:\n",
        "        inputs, labels = inputs.to(device), labels.to(device)\n",
        "\n",
        "        optimizer.zero_grad()\n",
        "\n",
        "        outputs = model(inputs)\n",
        "        loss = criterion(outputs, labels)\n",
        "\n",
        "        loss.backward()\n",
        "        optimizer.step()\n",
        "\n",
        "        running_loss += loss.item()\n",
        "\n",
        "    average_loss = running_loss / len(train_loader)\n",
        "    return average_loss\n",
        "\n",
        "def validate(validation_loader, device, model, criterion):\n",
        "    model.eval()\n",
        "    running_loss = 0.0\n",
        "    validation_outputs = []\n",
        "    validation_truth = []\n",
        "\n",
        "    with torch.no_grad():\n",
        "        for inputs, labels in validation_loader:\n",
        "            inputs, labels = inputs.to(device), labels.to(device)\n",
        "\n",
        "            outputs = model(inputs)\n",
        "            loss = criterion(outputs, labels)\n",
        "\n",
        "            running_loss += loss.item()\n",
        "            validation_outputs.append(outputs.detach().numpy())\n",
        "            validation_truth.append(labels.detach().numpy())\n",
        "\n",
        "    average_loss = running_loss / len(validation_loader)\n",
        "    validation_outputs = np.concatenate(validation_outputs)\n",
        "    validation_truth = np.concatenate(validation_truth)\n",
        "\n",
        "    return average_loss, validation_outputs, validation_truth\n",
        "\n",
        "\n",
        "def test(test_loader, device, model, criterion):\n",
        "    model.eval()\n",
        "    running_loss = 0.0\n",
        "    test_outputs = []\n",
        "    test_truth = []\n",
        "\n",
        "    with torch.no_grad():\n",
        "        for inputs, targets in test_loader:\n",
        "            inputs, targets = inputs.to(device), targets.to(device)\n",
        "\n",
        "            outputs = model(inputs)\n",
        "            loss = criterion(outputs, targets)\n",
        "\n",
        "            running_loss += loss.item()\n",
        "            test_outputs.append(outputs.detach().numpy())\n",
        "            test_truth.append(targets.detach().numpy())\n",
        "\n",
        "    average_loss = running_loss / len(test_loader)\n",
        "    test_outputs = np.concatenate(test_outputs)\n",
        "    test_truth = np.concatenate(test_truth)\n",
        "\n",
        "    return average_loss, test_outputs, test_truth"
      ]
    },
    {
      "cell_type": "code",
      "execution_count": 4,
      "metadata": {
        "id": "k8mFEPZ1gkfO"
      },
      "outputs": [
        {
          "name": "stdout",
          "output_type": "stream",
          "text": [
            "Batch 1/5, Train Size: 8994, Validation Size: 6\n"
          ]
        },
        {
          "name": "stderr",
          "output_type": "stream",
          "text": [
            "/opt/miniconda3/envs/aiDev/lib/python3.10/site-packages/torch/nn/modules/loss.py:101: UserWarning: Using a target size (torch.Size([16])) that is different to the input size (torch.Size([16, 1])). This will likely lead to incorrect results due to broadcasting. Please ensure they have the same size.\n",
            "  return F.l1_loss(input, target, reduction=self.reduction)\n",
            "/opt/miniconda3/envs/aiDev/lib/python3.10/site-packages/torch/nn/modules/loss.py:101: UserWarning: Using a target size (torch.Size([2])) that is different to the input size (torch.Size([2, 1])). This will likely lead to incorrect results due to broadcasting. Please ensure they have the same size.\n",
            "  return F.l1_loss(input, target, reduction=self.reduction)\n",
            "/opt/miniconda3/envs/aiDev/lib/python3.10/site-packages/torch/nn/modules/loss.py:101: UserWarning: Using a target size (torch.Size([6])) that is different to the input size (torch.Size([6, 1])). This will likely lead to incorrect results due to broadcasting. Please ensure they have the same size.\n",
            "  return F.l1_loss(input, target, reduction=self.reduction)\n"
          ]
        },
        {
          "name": "stdout",
          "output_type": "stream",
          "text": [
            "Best Validation Loss: 0.4294\n",
            "Best Validation Loss: 0.3690\n",
            "Best Validation Loss: 0.3414\n",
            "Batch 2/5, Train Size: 8994, Validation Size: 6\n",
            "Best Validation Loss: 0.5000\n",
            "Batch 3/5, Train Size: 8994, Validation Size: 6\n",
            "Best Validation Loss: 0.4774\n",
            "Best Validation Loss: 0.4277\n",
            "Best Validation Loss: 0.3556\n",
            "Batch 4/5, Train Size: 8994, Validation Size: 6\n",
            "Best Validation Loss: 0.5000\n",
            "Batch 5/5, Train Size: 8994, Validation Size: 6\n",
            "Best Validation Loss: 0.3598\n"
          ]
        }
      ],
      "source": [
        "from torchvision import datasets, transforms\n",
        "import copy\n",
        "\n",
        "\n",
        "EPOCHS = 10\n",
        "learning_rate = 0.1\n",
        "\n",
        "validation_losses = []\n",
        "\n",
        "# Example transformation\n",
        "transform = transforms.Compose([\n",
        "    transforms.ToTensor(),\n",
        "    transforms.Normalize((0.5,), (0.5,))\n",
        "])\n",
        "\n",
        "# Example random dataset\n",
        "num_samples = 10000\n",
        "num_features = 119\n",
        "\n",
        "features_array = np.random.rand(num_samples, num_features).astype(np.float32)\n",
        "labels_array = np.random.randint(0, 2, size=num_samples).astype(np.float32)\n",
        "\n",
        "features_list = torch.tensor(features_array)\n",
        "labels_list = torch.tensor(labels_array)\n",
        "\n",
        "\n",
        "class InterruptExecution(Exception):\n",
        "    pass\n",
        "\n",
        "data_list = list(zip(features_list, labels_list))\n",
        "\n",
        "\n",
        "sampling_size = 6\n",
        "\n",
        "best_vals =[]\n",
        "best_models = []\n",
        "best_tests = []\n",
        "\n",
        "device = torch.device(\"cuda:0\" if torch.cuda.is_available() else \"cpu\")\n",
        "\n",
        "train_test_split_index = int(0.9 * len(data_list))\n",
        "\n",
        "train_val_data = data_list[:train_test_split_index]\n",
        "\n",
        "test_data = data_list[train_test_split_index:]\n",
        "test_loader = DataLoader(test_data, batch_size=16, shuffle=False)\n",
        "\n",
        "data_len = len(train_val_data)\n",
        "\n",
        "num_batches = data_len / sampling_size\n",
        "\n",
        "num_batches = 5 # TODO: Remove this line\n",
        "\n",
        "indices = np.arange(data_len)\n",
        "for i in range(num_batches):\n",
        "    best_val_loss = np.inf\n",
        "\n",
        "    start_index = i * sampling_size\n",
        "\n",
        "    val_indices = indices[start_index:start_index + sampling_size]\n",
        "\n",
        "    train_indices = np.setdiff1d(indices, val_indices)\n",
        "\n",
        "    train_data = [train_val_data[j] for j in train_indices]\n",
        "    val_data = [train_val_data[j] for j in val_indices]\n",
        "\n",
        "    print(f\"Batch {i+1}/{num_batches}, Train Size: {len(train_data)}, Validation Size: {len(val_data)}\")\n",
        "\n",
        "    train_loader = DataLoader(train_data, batch_size=16, shuffle=True)\n",
        "    validation_loader = DataLoader(val_data, batch_size=16, shuffle=False)\n",
        "\n",
        "    model.to(device)\n",
        "\n",
        "    optimizer = torch.optim.Adam(model.parameters(), lr=learning_rate)\n",
        "    scheduler = torch.optim.lr_scheduler.ReduceLROnPlateau(optimizer, mode='min',\n",
        "                                                        factor=0.8, patience=5,\n",
        "                                                        min_lr=0.0000001)\n",
        "    criterion = nn.L1Loss()\n",
        "    best_validation_loss = float('inf')\n",
        "\n",
        "    for epoch in range(1, EPOCHS+1):\n",
        "\n",
        "        model.train()\n",
        "\n",
        "\n",
        "\n",
        "        loss = train(train_loader, device, model, optimizer, criterion)\n",
        "        scheduler.step(loss)\n",
        "\n",
        "        validation_loss, validation_output, validation_truth_temp = validate(validation_loader, device, model, criterion)\n",
        "        # print(f\"Epoch {epoch+1}, Train Loss: {loss:.4f}, Validation Loss: {validation_loss:.4f}\")\n",
        "        if validation_loss < best_validation_loss:\n",
        "            best_validation_loss = validation_loss\n",
        "            best_model_state = copy.deepcopy(model.state_dict())\n",
        "            best_model = model\n",
        "            best_val_loss = validation_loss\n",
        "            print(f\"Best Validation Loss: {best_val_loss:.4f}\")\n",
        "\n",
        "    # Store the best validation loss for the current batch\n",
        "    validation_losses.append(best_val_loss)\n",
        "    \n",
        "model.load_state_dict(best_model_state)\n",
        "test_loss, test_outputs, test_truth = test(test_loader, device, model, criterion)\n",
        "print(f\"Test Loss: {test_loss:.4f}\")\n"
      ]
    },
    {
      "cell_type": "code",
      "execution_count": null,
      "metadata": {},
      "outputs": [
        {
          "data": {
            "image/png": "[encoded data removed]",
            "text/plain": [
              "<Figure size 640x480 with 1 Axes>"
            ]
          },
          "metadata": {},
          "output_type": "display_data"
        }
      ],
      "source": [
        "\"\"\" # Plot validation loss vs. batches\n",
        "batches = np.arange(1, 834 + 1)\n",
        "plt.figure()\n",
        "plt.plot(batches, validation_losses, '-o')\n",
        "plt.xlabel('Batches')\n",
        "plt.ylabel('Validation Loss')\n",
        "plt.title('Validation Loss vs. Batches')\n",
        "plt.grid(True)\n",
        "plt.show() \"\"\"\n",
        "\n",
        "# Plot validation loss vs. epochs for each batch\n",
        "plt.figure()\n",
        "for i, val_losses in enumerate(validation_losses_per_epoch):\n",
        "    epochs = np.arange(1, EPOCHS * 5 + 1) \n",
        "    plt.plot(epochs, val_losses, label=f'Batch {i+1}')\n",
        "plt.xlabel('Epochs')\n",
        "plt.ylabel('Validation Loss')\n",
        "plt.title('Validation Loss vs. Epochs')\n",
        "#plt.legend()\n",
        "plt.grid(True)\n",
        "plt.show()"
      ]
    },
    {
      "cell_type": "code",
      "execution_count": null,
      "metadata": {
        "id": "-_x4G9KvzDJh"
      },
      "outputs": [
        {
          "name": "stdout",
          "output_type": "stream",
          "text": [
            "[0]\ttrain-rmse:0.27419\teval-rmse:0.26459\n",
            "[1]\ttrain-rmse:0.26887\teval-rmse:0.26398\n",
            "[2]\ttrain-rmse:0.26116\teval-rmse:0.26368\n",
            "[3]\ttrain-rmse:0.25369\teval-rmse:0.26536\n",
            "[4]\ttrain-rmse:0.24690\teval-rmse:0.26497\n",
            "[5]\ttrain-rmse:0.24136\teval-rmse:0.26537\n",
            "[6]\ttrain-rmse:0.23247\teval-rmse:0.27076\n",
            "[7]\ttrain-rmse:0.22596\teval-rmse:0.27021\n",
            "[8]\ttrain-rmse:0.21879\teval-rmse:0.27227\n",
            "[9]\ttrain-rmse:0.21218\teval-rmse:0.27145\n",
            "[10]\ttrain-rmse:0.20815\teval-rmse:0.27076\n",
            "[11]\ttrain-rmse:0.20205\teval-rmse:0.27144\n",
            "[12]\ttrain-rmse:0.19546\teval-rmse:0.27162\n"
          ]
        },
        {
          "name": "stderr",
          "output_type": "stream",
          "text": [
            "/opt/miniconda3/envs/aiDev/lib/python3.10/site-packages/xgboost/core.py:727: FutureWarning: Pass `evals` as keyword args.\n",
            "  warnings.warn(msg, FutureWarning)\n"
          ]
        },
        {
          "name": "stdout",
          "output_type": "stream",
          "text": [
            "Test RMSE: 0.2892\n"
          ]
        },
        {
          "name": "stderr",
          "output_type": "stream",
          "text": [
            "/opt/miniconda3/envs/aiDev/lib/python3.10/site-packages/sklearn/metrics/_regression.py:483: FutureWarning: 'squared' is deprecated in version 1.4 and will be removed in 1.6. To calculate the root mean squared error, use the function'root_mean_squared_error'.\n",
            "  warnings.warn(\n"
          ]
        }
      ],
      "source": [
        "X = np.random.rand(1000, 119)  # Example: 1000 samples, 10 features\n",
        "y = np.random.rand(1000)      # Example: 1000 target values\n",
        "\n",
        "\n",
        "X_train, X_temp, y_train, y_temp = train_test_split(X, y, test_size=0.3, random_state=42)\n",
        "X_val, X_test, y_val, y_test = train_test_split(X_temp, y_temp, test_size=0.5, random_state=42)\n",
        "\n",
        "dtrain = xgb.DMatrix(X_train, label=y_train)\n",
        "dval = xgb.DMatrix(X_val, label=y_val)\n",
        "dtest = xgb.DMatrix(X_test, label=y_test)\n",
        "\n",
        "params = {\n",
        "    'objective': 'reg:squarederror',\n",
        "    'eval_metric': 'rmse',\n",
        "    'max_depth': 6,\n",
        "    'eta': 0.1,\n",
        "    'subsample': 0.8,\n",
        "    'colsample_bytree': 0.8\n",
        "}\n",
        "\n",
        "evals = [(dtrain, 'train'), (dval, 'eval')]\n",
        "\n",
        "num_boost_round = 100\n",
        "early_stopping_rounds = 10\n",
        "model = xgb.train(params, dtrain, num_boost_round, evals, early_stopping_rounds=early_stopping_rounds, verbose_eval=True)\n",
        "\n",
        "y_pred = model.predict(dtest)\n",
        "test_rmse = mean_squared_error(y_test, y_pred, squared=False)\n",
        "print(f'Test RMSE: {test_rmse:.4f}')"
      ]
    }
  ],
  "metadata": {
    "colab": {
      "provenance": []
    },
    "kernelspec": {
      "display_name": "Python 3",
      "name": "python3"
    },
    "language_info": {
      "codemirror_mode": {
        "name": "ipython",
        "version": 3
      },
      "file_extension": ".py",
      "mimetype": "text/x-python",
      "name": "python",
      "nbconvert_exporter": "python",
      "pygments_lexer": "ipython3",
      "version": "3.10.14"
    }
  },
  "nbformat": 4,
  "nbformat_minor": 0
}
