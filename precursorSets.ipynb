{
 "cells": [
  {
   "cell_type": "code",
   "execution_count": 1,
   "metadata": {},
   "outputs": [],
   "source": [
    "import numpy as np\n",
    "import pandas as pd\n",
    "from collections import defaultdict\n",
    "import json"
   ]
  },
  {
   "cell_type": "code",
   "execution_count": 2,
   "metadata": {},
   "outputs": [],
   "source": [
    "filename = r'data/solid-state_dataset_20200713.json'\n",
    "\n",
    "filedata = open(filename, mode='r').read()\n",
    "jsonParse = json.loads(filedata)"
   ]
  },
  {
   "cell_type": "code",
   "execution_count": 3,
   "metadata": {},
   "outputs": [
    {
     "data": {
      "text/html": [
       "<div>\n",
       "<style scoped>\n",
       "    .dataframe tbody tr th:only-of-type {\n",
       "        vertical-align: middle;\n",
       "    }\n",
       "\n",
       "    .dataframe tbody tr th {\n",
       "        vertical-align: top;\n",
       "    }\n",
       "\n",
       "    .dataframe thead th {\n",
       "        text-align: right;\n",
       "    }\n",
       "</style>\n",
       "<table border=\"1\" class=\"dataframe\">\n",
       "  <thead>\n",
       "    <tr style=\"text-align: right;\">\n",
       "      <th></th>\n",
       "      <th>release_date</th>\n",
       "      <th>reactions</th>\n",
       "    </tr>\n",
       "  </thead>\n",
       "  <tbody>\n",
       "    <tr>\n",
       "      <th>0</th>\n",
       "      <td>2020-07-13</td>\n",
       "      <td>{'synthesis_type': 'solid-state', 'targets_str...</td>\n",
       "    </tr>\n",
       "    <tr>\n",
       "      <th>1</th>\n",
       "      <td>2020-07-13</td>\n",
       "      <td>{'synthesis_type': 'solid-state', 'targets_str...</td>\n",
       "    </tr>\n",
       "    <tr>\n",
       "      <th>2</th>\n",
       "      <td>2020-07-13</td>\n",
       "      <td>{'synthesis_type': 'solid-state', 'targets_str...</td>\n",
       "    </tr>\n",
       "    <tr>\n",
       "      <th>3</th>\n",
       "      <td>2020-07-13</td>\n",
       "      <td>{'synthesis_type': 'solid-state', 'targets_str...</td>\n",
       "    </tr>\n",
       "    <tr>\n",
       "      <th>4</th>\n",
       "      <td>2020-07-13</td>\n",
       "      <td>{'synthesis_type': 'solid-state', 'targets_str...</td>\n",
       "    </tr>\n",
       "    <tr>\n",
       "      <th>...</th>\n",
       "      <td>...</td>\n",
       "      <td>...</td>\n",
       "    </tr>\n",
       "    <tr>\n",
       "      <th>31777</th>\n",
       "      <td>2020-07-13</td>\n",
       "      <td>{'synthesis_type': 'solid-state', 'targets_str...</td>\n",
       "    </tr>\n",
       "    <tr>\n",
       "      <th>31778</th>\n",
       "      <td>2020-07-13</td>\n",
       "      <td>{'synthesis_type': 'solid-state', 'targets_str...</td>\n",
       "    </tr>\n",
       "    <tr>\n",
       "      <th>31779</th>\n",
       "      <td>2020-07-13</td>\n",
       "      <td>{'synthesis_type': 'solid-state', 'targets_str...</td>\n",
       "    </tr>\n",
       "    <tr>\n",
       "      <th>31780</th>\n",
       "      <td>2020-07-13</td>\n",
       "      <td>{'synthesis_type': 'solid-state', 'targets_str...</td>\n",
       "    </tr>\n",
       "    <tr>\n",
       "      <th>31781</th>\n",
       "      <td>2020-07-13</td>\n",
       "      <td>{'synthesis_type': 'solid-state', 'targets_str...</td>\n",
       "    </tr>\n",
       "  </tbody>\n",
       "</table>\n",
       "<p>31782 rows × 2 columns</p>\n",
       "</div>"
      ],
      "text/plain": [
       "      release_date                                          reactions\n",
       "0       2020-07-13  {'synthesis_type': 'solid-state', 'targets_str...\n",
       "1       2020-07-13  {'synthesis_type': 'solid-state', 'targets_str...\n",
       "2       2020-07-13  {'synthesis_type': 'solid-state', 'targets_str...\n",
       "3       2020-07-13  {'synthesis_type': 'solid-state', 'targets_str...\n",
       "4       2020-07-13  {'synthesis_type': 'solid-state', 'targets_str...\n",
       "...            ...                                                ...\n",
       "31777   2020-07-13  {'synthesis_type': 'solid-state', 'targets_str...\n",
       "31778   2020-07-13  {'synthesis_type': 'solid-state', 'targets_str...\n",
       "31779   2020-07-13  {'synthesis_type': 'solid-state', 'targets_str...\n",
       "31780   2020-07-13  {'synthesis_type': 'solid-state', 'targets_str...\n",
       "31781   2020-07-13  {'synthesis_type': 'solid-state', 'targets_str...\n",
       "\n",
       "[31782 rows x 2 columns]"
      ]
     },
     "execution_count": 3,
     "metadata": {},
     "output_type": "execute_result"
    }
   ],
   "source": [
    "df=pd.read_json(filename)\n",
    "df"
   ]
  },
  {
   "cell_type": "code",
   "execution_count": 8,
   "metadata": {},
   "outputs": [
    {
     "data": {
      "text/plain": [
       "{'synthesis_type': 'solid-state',\n",
       " 'targets_string': ['LiTi0.05Ni0.95O2'],\n",
       " 'reaction': {'element_substitution': {},\n",
       "  'left_side': [{'material': 'LiOH', 'amount': '1'},\n",
       "   {'material': 'Ni(OH)2', 'amount': '0.95'},\n",
       "   {'material': 'TiO2', 'amount': '0.05'},\n",
       "   {'material': 'O2', 'amount': '0.225'}],\n",
       "  'right_side': [{'material': 'LiNi0.95Ti0.05O2', 'amount': '1'},\n",
       "   {'material': 'H2O', 'amount': '1.45'}]},\n",
       " 'reaction_string': '1 LiOH + 0.95 Ni(OH)2 + 0.225 O2 + 0.05 TiO2 == 1 LiNi0.95Ti0.05O2 + 1.45 H2O',\n",
       " 'doi': '10.1149/1.1614797',\n",
       " 'operations': [{'type': 'StartingSynthesis',\n",
       "   'token': 'prepared',\n",
       "   'conditions': {'heating_temperature': None,\n",
       "    'heating_time': None,\n",
       "    'heating_atmosphere': None,\n",
       "    'mixing_device': None,\n",
       "    'mixing_media': None}},\n",
       "  {'type': 'MixingOperation',\n",
       "   'token': 'ballmilled',\n",
       "   'conditions': {'heating_temperature': None,\n",
       "    'heating_time': [{'values': [24.0],\n",
       "      'units': 'h',\n",
       "      'min_value': 24.0,\n",
       "      'max_value': 24.0}],\n",
       "    'heating_atmosphere': None,\n",
       "    'mixing_device': None,\n",
       "    'mixing_media': None}},\n",
       "  {'type': 'HeatingOperation',\n",
       "   'token': 'calcined',\n",
       "   'conditions': {'heating_temperature': [{'values': [550.0],\n",
       "      'units': '°C',\n",
       "      'min_value': 550.0,\n",
       "      'max_value': 550.0}],\n",
       "    'heating_time': None,\n",
       "    'heating_atmosphere': None,\n",
       "    'mixing_device': None,\n",
       "    'mixing_media': None}},\n",
       "  {'type': 'HeatingOperation',\n",
       "   'token': 'heated',\n",
       "   'conditions': {'heating_temperature': [{'values': [750.0],\n",
       "      'units': '°C',\n",
       "      'min_value': 750.0,\n",
       "      'max_value': 750.0}],\n",
       "    'heating_time': None,\n",
       "    'heating_atmosphere': None,\n",
       "    'mixing_device': None,\n",
       "    'mixing_media': None}}],\n",
       " 'target': {'material_string': 'LiNi0.95Ti0.05O2',\n",
       "  'material_name': '',\n",
       "  'material_formula': 'LiNi0.95Ti0.05O2',\n",
       "  'phase': None,\n",
       "  'additives': [],\n",
       "  'oxygen_deficiency': None,\n",
       "  'is_acronym': False,\n",
       "  'amounts_vars': {},\n",
       "  'elements_vars': {},\n",
       "  'composition': [{'formula': 'LiNi0.95Ti0.05O2',\n",
       "    'amount': '1',\n",
       "    'elements': {'Li': '1', 'Ni': '0.95', 'Ti': '0.05', 'O': '2'}}]},\n",
       " 'precursors': [{'material_string': 'LiOH',\n",
       "   'material_name': '',\n",
       "   'material_formula': 'LiOH',\n",
       "   'phase': None,\n",
       "   'additives': [],\n",
       "   'oxygen_deficiency': None,\n",
       "   'is_acronym': False,\n",
       "   'amounts_vars': {},\n",
       "   'elements_vars': {},\n",
       "   'composition': [{'formula': 'LiOH',\n",
       "     'amount': '1',\n",
       "     'elements': {'Li': '1', 'O': '1', 'H': '1'}}]},\n",
       "  {'material_string': 'Ni(OH)2',\n",
       "   'material_name': '',\n",
       "   'material_formula': 'Ni(OH)2',\n",
       "   'phase': None,\n",
       "   'additives': [],\n",
       "   'oxygen_deficiency': None,\n",
       "   'is_acronym': False,\n",
       "   'amounts_vars': {},\n",
       "   'elements_vars': {},\n",
       "   'composition': [{'formula': 'Ni(OH)2',\n",
       "     'amount': '1',\n",
       "     'elements': {'O': '2', 'H': '2', 'Ni': '1'}}]},\n",
       "  {'material_string': 'TiO2',\n",
       "   'material_name': '',\n",
       "   'material_formula': 'TiO2',\n",
       "   'phase': None,\n",
       "   'additives': [],\n",
       "   'oxygen_deficiency': None,\n",
       "   'is_acronym': False,\n",
       "   'amounts_vars': {},\n",
       "   'elements_vars': {},\n",
       "   'composition': [{'formula': 'TiO2',\n",
       "     'amount': '1',\n",
       "     'elements': {'Ti': '1', 'O': '2'}}]}],\n",
       " 'paragraph_string': 'The LiNi0.95Ti0.05O2 material was prepared by empl <...> re identified by X-ray photoelectron spectroscopy.'}"
      ]
     },
     "execution_count": 8,
     "metadata": {},
     "output_type": "execute_result"
    }
   ],
   "source": [
    "reactions=jsonParse['reactions']\n",
    "#reactions[0]['targets_string']\n",
    "#reactions[0]['precursors']\n",
    "reactions[3]"
   ]
  },
  {
   "cell_type": "code",
   "execution_count": 5,
   "metadata": {},
   "outputs": [],
   "source": [
    "from collections import defaultdict\n",
    "\n",
    "targetDict = defaultdict(set)\n",
    "# Iterate over all reactions\n",
    "for reaction in reactions:\n",
    "    target = frozenset(reaction['targets_string'])\n",
    "\n",
    "    precursors = reaction['precursors']\n",
    "    precursorSet = frozenset(precursor['material_formula'] for precursor in precursors)\n",
    "\n",
    "    targetDict[target].add(precursorSet)"
   ]
  },
  {
   "cell_type": "code",
   "execution_count": 12,
   "metadata": {},
   "outputs": [
    {
     "data": {
      "text/plain": [
       "18732"
      ]
     },
     "execution_count": 12,
     "metadata": {},
     "output_type": "execute_result"
    }
   ],
   "source": [
    "len(targetDict)"
   ]
  },
  {
   "cell_type": "code",
   "execution_count": 11,
   "metadata": {},
   "outputs": [
    {
     "data": {
      "text/plain": [
       "1333"
      ]
     },
     "execution_count": 11,
     "metadata": {},
     "output_type": "execute_result"
    }
   ],
   "source": [
    "multipleTarget=list()\n",
    "\n",
    "for target, precursor in targetDict.items():\n",
    "    if len(precursor)>1:\n",
    "        multipleTarget.append(target)\n",
    "\n",
    "len(multipleTarget)"
   ]
  },
  {
   "cell_type": "code",
   "execution_count": null,
   "metadata": {},
   "outputs": [],
   "source": []
  }
 ],
 "metadata": {
  "kernelspec": {
   "display_name": "Python 3",
   "language": "python",
   "name": "python3"
  },
  "language_info": {
   "codemirror_mode": {
    "name": "ipython",
    "version": 3
   },
   "file_extension": ".py",
   "mimetype": "text/x-python",
   "name": "python",
   "nbconvert_exporter": "python",
   "pygments_lexer": "ipython3",
   "version": "3.10.9"
  }
 },
 "nbformat": 4,
 "nbformat_minor": 2
}
